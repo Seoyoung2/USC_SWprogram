{
 "cells": [
  {
   "cell_type": "code",
   "execution_count": 8,
   "metadata": {},
   "outputs": [],
   "source": [
    "import sys\n",
    "import random\n",
    "import matplotlib.pyplot as plt\n",
    "import numpy as np\n",
    "import csv\n",
    "\n",
    "%matplotlib inline"
   ]
  },
  {
   "cell_type": "code",
   "execution_count": 9,
   "metadata": {},
   "outputs": [],
   "source": [
    "# Given a path to file, load it\n",
    "# returns data as an array of dictionaries, [{column_name: cell_value}, {...}]\n",
    "\n",
    "def load_csv(filepath):\n",
    "    data = []\n",
    "    with open(filepath) as csvfile:\n",
    "        reader = csv.DictReader(csvfile, delimiter=\",\")\n",
    "        for row in reader:\n",
    "            data.append(dict(row))\n",
    "    \n",
    "    return data"
   ]
  },
  {
   "cell_type": "code",
   "execution_count": 10,
   "metadata": {},
   "outputs": [],
   "source": [
    "users = load_csv(\"data/users.csv\")\n",
    "ratings = load_csv(\"data/ratings_train.csv\")"
   ]
  },
  {
   "cell_type": "code",
   "execution_count": 11,
   "metadata": {},
   "outputs": [],
   "source": [
    "# Helper function to visualize points in 2d space as a scatter plot\n",
    "#\n",
    "# x_vals: List<float>\n",
    "# y_vals: List<float>\n",
    "# colors: optional array of colors, must be the same length as x_vals and y_vals.\n",
    "# more info on matplotlib colors: https://matplotlib.org/2.0.2/api/colors_api.html\n",
    "def scatter_plot(x_vals, y_vals, colors=None):\n",
    "    fig = plt.figure(figsize=(20,8))\n",
    "    ax = fig.add_subplot(1, 1, 1)\n",
    "    ax.scatter(x_vals, y_vals, c=colors)\n",
    "    ax.grid(True)\n",
    "    return fig"
   ]
  },
  {
   "cell_type": "code",
   "execution_count": 22,
   "metadata": {},
   "outputs": [
    {
     "data": {
      "text/plain": [
       "{'uid': '1147', 'bid': '288', 'rating': '2'}"
      ]
     },
     "execution_count": 22,
     "metadata": {},
     "output_type": "execute_result"
    }
   ],
   "source": [
    "ratings[0]"
   ]
  },
  {
   "cell_type": "code",
   "execution_count": 23,
   "metadata": {},
   "outputs": [],
   "source": [
    "# Helper class for working with a dataset. It contains helper methods that format and filter the data\n",
    "class Data:\n",
    "    # data: [{column_name: cell_value}, ...]\n",
    "    def __init__(self, data):\n",
    "        self.data = data\n",
    "    \n",
    "    \n",
    "    # Converts data values to data_types specified in column_defs\n",
    "    #\n",
    "    # data: [{column_name: cell_value}, ...]\n",
    "    # column_defs: {column_name: data_type}\n",
    "    # returns [{column_name: converted_cell_value}]\n",
    "    def convert_data_types(self, data, column_defs):\n",
    "        result = []\n",
    "        for row in data:\n",
    "            new_values = {}\n",
    "            for name, value in row.items():\n",
    "                if name in column_defs and column_defs[name] == \"float\":\n",
    "                    new_values[name] = float(value)\n",
    "                elif name in column_defs and column_defs[name] == \"integer\":\n",
    "                    new_values[name] = int(value)\n",
    "                else:\n",
    "                    new_values[name] = value\n",
    "\n",
    "            result.append(new_values)\n",
    "\n",
    "        return result\n",
    "\n",
    "    # Returns only those columns that are specified in column_defs\n",
    "    #\n",
    "    # data: [{column_name: cell_value}, ...]\n",
    "    # column_defs: {column_name: data_type}\n",
    "    # returns [{selected_column_name: cell_value}]\n",
    "    def select_columns(self, data, column_defs):\n",
    "        result = []\n",
    "        for row in data:\n",
    "            filtered_values = {}\n",
    "            for name, value in row.items():\n",
    "                if name in column_defs:\n",
    "                    filtered_values[name] = value\n",
    "\n",
    "            result.append(filtered_values)\n",
    "\n",
    "        return result\n",
    "    \n",
    "    \n",
    "    # returns location_x/location_y, which we can then use for KMeans\n",
    "    def kmeans_data(self):\n",
    "        column_defs = {\"location_x\": \"float\", \"location_y\": \"float\"}\n",
    "        selected_data = self.select_columns(self.data, column_defs)\n",
    "        return self.convert_data_types(selected_data, column_defs)\n",
    "    \n",
    "    \n",
    "    # returns location_x/location_y data in the format suitable for our visualization function\n",
    "    #\n",
    "    # returns (List<float>, List<float>)\n",
    "    def kmeans_data_for_viz(self):\n",
    "        data = self.kmeans_data()\n",
    "        x_vals = [r[\"location_x\"] for r in data]\n",
    "        y_vals = [r[\"location_y\"] for r in data]\n",
    "        \n",
    "        return x_vals, y_vals\n",
    "    \n",
    "    def lab2_user_ratings_count_data(self):\n",
    "        column_defs = {\"uid\": \"integer\", \"num_reviews\": \"integer\", \"r1_cnt\": \"integer\", \"r2_cnt\": \"integer\", \"r3_cnt\": \"integer\", \"r4_cnt\": \"integer\", \"r5_cnt\": \"integer\"}\n",
    "        \n",
    "        result = []\n",
    "        for row in data:\n",
    "            filtered_values = {}\n",
    "            for name, value in row.items():\n",
    "                if name in column_defs:\n",
    "                    filtered_values[name] = value\n",
    "\n",
    "            result.append(filtered_values)\n",
    "\n",
    "        return result\n",
    "    \n",
    "    def lab2_ratings_data(self):\n",
    "        column_defs = {\"uid\": \"integer\", \"rating\": \"integer\"}\n",
    "        \n",
    "        result = []\n",
    "        for row in data:\n",
    "            filtered_values = {}\n",
    "            for name, value in row.items():\n",
    "                if name in column_defs:\n",
    "                    filtered_values[name] = float(value)\n",
    "\n",
    "            result.append(filtered_values)\n",
    "\n",
    "        return result"
   ]
  },
  {
   "cell_type": "code",
   "execution_count": 24,
   "metadata": {},
   "outputs": [
    {
     "name": "stdout",
     "output_type": "stream",
     "text": [
      "{'uid': '0', 'num_reviews': '295', 'r1_cnt': '29', 'r2_cnt': '74', 'r3_cnt': '119', 'r4_cnt': '54', 'r5_cnt': '19'}\n",
      "{'uid': 0.0}\n"
     ]
    }
   ],
   "source": [
    "users_data = Data(users)\n",
    "user_features = users_data.lab2_user_ratings_count_data()\n",
    "user_features_dict = {u[\"uid\"]: u for u in user_features}\n",
    "print(user_features[0])\n",
    "\n",
    "ratings_data =  Data(ratings)\n",
    "rating_features = ratings_data.lab2_ratings_data()\n",
    "print(rating_features[0])"
   ]
  },
  {
   "cell_type": "code",
   "execution_count": null,
   "metadata": {},
   "outputs": [],
   "source": [
    "def evaluation_hist_bin(num):\n",
    "    if num >= 0 and num < 1:\n",
    "        bin_enum = \"[0-1]\"\n",
    "    elif num >= 1 and num < 2:\n",
    "        bin_enum = \"[1-2]\"\n",
    "    elif num >= 2 and num < 3:\n",
    "        bin_enum = \"[2-3]\"\n",
    "    elif num >= 3 and num < 4:\n",
    "        bin_enum = \"[3-4]\"\n",
    "    else:\n",
    "        bin_enum = \"[4+]\"\n",
    "        \n",
    "    return bin_enum\n",
    "\n",
    "\n",
    "def evaluate_predictions(model_predictions, actual_predictions):\n",
    "    errors = []\n",
    "    histogram = {}\n",
    "    \n",
    "    for key in expected_predictions.keys():\n",
    "        diff = abs(model_predictions[key] - actual_predictions[key])\n",
    "        errors.append(diff**2)\n",
    "        bin_id = evaluation_hist_bin(diff)\n",
    "        \n",
    "        if bin_id in histogram:\n",
    "            histogram[bin_id] += 1\n",
    "        else:\n",
    "            histogram[bin_id] = 1\n",
    "            \n",
    "    mse = sum(errors) / len(errors)\n",
    "    rsme = mse**0.5\n",
    "    \n",
    "    return rsme, histogram"
   ]
  },
  {
   "cell_type": "code",
   "execution_count": null,
   "metadata": {},
   "outputs": [],
   "source": []
  },
  {
   "cell_type": "code",
   "execution_count": null,
   "metadata": {},
   "outputs": [],
   "source": [
    "x_vals = []\n",
    "y_vals = []\n",
    "\n",
    "for u in user_features:\n",
    "    a = u[\"num_reviews\"]\n",
    "    counts = [u[\"r1_cnt\"]/n, u[\"r2_cnt\"]/n, u[\"r3_cnt\"]/n, u[\"r4_cnt\"]/n, u[\"r5_cnt\"]/n]\n",
    "    \n",
    "    #f1\n",
    "    tail_sum = counts[0] + counts[4]\n",
    "    mid_sum = counts[1] + counts[2] + counts[3]\n",
    "    feature1 = mid_sum - tail_sum\n",
    "    \n",
    "    #f2\n",
    "    mean = (u[\"r1_cnt\"] * 1 + u[\"r2_cnt\"] * 2 + u[\"r3_cnt\"] * 3 + u[\"r4_cnt\"] * 4 + u[\"r5_cnt\"] * 5)\n",
    "    max_count, mode = max([(val, idx+1) for idx, val in enumerate(counts)])\n",
    "    \n",
    "    feature2 = mode = mean\n",
    "    \n",
    "    x_vals.append(feature1)\n",
    "    y_vals.append(feature2)"
   ]
  },
  {
   "cell_type": "code",
   "execution_count": null,
   "metadata": {},
   "outputs": [],
   "source": [
    "fig = scatter_plot(x_vals, y_vals)\n",
    "plt.show()"
   ]
  }
 ],
 "metadata": {
  "kernelspec": {
   "display_name": "soongsil_data_mining",
   "language": "python",
   "name": "soongsil_data_mining"
  },
  "language_info": {
   "codemirror_mode": {
    "name": "ipython",
    "version": 3
   },
   "file_extension": ".py",
   "mimetype": "text/x-python",
   "name": "python",
   "nbconvert_exporter": "python",
   "pygments_lexer": "ipython3",
   "version": "3.7.1"
  }
 },
 "nbformat": 4,
 "nbformat_minor": 2
}
