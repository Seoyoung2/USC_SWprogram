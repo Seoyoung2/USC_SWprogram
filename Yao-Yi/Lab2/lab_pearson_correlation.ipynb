{
 "cells": [
  {
   "cell_type": "code",
   "execution_count": 2,
   "metadata": {},
   "outputs": [],
   "source": [
    "import os\n",
    "import pandas as pd\n",
    "import numpy as np"
   ]
  },
  {
   "cell_type": "markdown",
   "metadata": {},
   "source": [
    "### Loading training and testing review data"
   ]
  },
  {
   "cell_type": "code",
   "execution_count": 3,
   "metadata": {},
   "outputs": [],
   "source": [
    "data_path = './data/'\n",
    "\n",
    "# define file path\n",
    "train_file = os.path.join(data_path, 'review_train.csv')\n",
    "\n",
    "# read datasets\n",
    "train_data = pd.read_csv(train_file)\n"
   ]
  },
  {
   "cell_type": "markdown",
   "metadata": {},
   "source": [
    "### Generating business pairs for the Pearson correlation"
   ]
  },
  {
   "cell_type": "code",
   "execution_count": 4,
   "metadata": {},
   "outputs": [],
   "source": [
    "# notice that the similarity of (item1, item2) is the same as (item2, item1)\n",
    "# reduce the number of pairs in order to reduce the computation\n",
    "\n",
    "businesses = list(set(train_data['bid']))\n",
    "business_pairs = []\n",
    "\n",
    "for i in range(len(businesses)):\n",
    "    for j in range((i + 1), len(businesses)):\n",
    "        business_pairs.append(sorted([businesses[i], businesses[j]]))\n",
    "    "
   ]
  },
  {
   "cell_type": "code",
   "execution_count": null,
   "metadata": {},
   "outputs": [],
   "source": []
  },
  {
   "cell_type": "markdown",
   "metadata": {},
   "source": [
    "### Computing the weight matrix (Pearson similarity)"
   ]
  },
  {
   "cell_type": "code",
   "execution_count": 5,
   "metadata": {},
   "outputs": [
    {
     "name": "stderr",
     "output_type": "stream",
     "text": [
      "IOPub data rate exceeded.\n",
      "The notebook server will temporarily stop sending output\n",
      "to the client in order to avoid crashing it.\n",
      "To change this limit, set the config variable\n",
      "`--NotebookApp.iopub_data_rate_limit`.\n",
      "\n",
      "Current values:\n",
      "NotebookApp.iopub_data_rate_limit=1000000.0 (bytes/sec)\n",
      "NotebookApp.rate_limit_window=3.0 (secs)\n",
      "\n"
     ]
    }
   ],
   "source": [
    "# convert the review data into a dictionary {(uid, bid): rating}\n",
    "review_dict = {(row[0], row[1]): row[2] for row in train_data.values.tolist()}\n",
    "\n",
    "# map each business id to a list of users rated on that {business_id: list[user_ids]}\n",
    "business_groups = train_data.groupby('bid')\n",
    "business_user_dict = {bid: list(business_groups.get_group(bid)['uid']) for bid in business_groups.groups}\n",
    "\n",
    "print(business_user_dict)"
   ]
  },
  {
   "cell_type": "code",
   "execution_count": 6,
   "metadata": {},
   "outputs": [],
   "source": [
    "# define a function to find common (co-rated) user list for two given businesses\n",
    "\n",
    "def find_co_rated_users(bid_1, bid_2):\n",
    "    \n",
    "    # Hint: utilize the \"business_user_dict\" to query the user lists\n",
    "    \n",
    "    ### pseudocode ###\n",
    "    # user_list_1 = the users who rated on bid_1\n",
    "    # user_list_2 = the users who rated on bid_2\n",
    "    # co_rated_users = the intersection (user_list_1, user_list_2)\n",
    "    # return co_rated_users\n",
    "    \n",
    "    user_list_1 = business_user_dict.get(bid_1, [])\n",
    "    user_list_2 = business_user_dict.get(bid_2, [])\n",
    "    \n",
    "    return set(user_list_1).intersection(set(user_list_2))\n"
   ]
  },
  {
   "cell_type": "code",
   "execution_count": 7,
   "metadata": {},
   "outputs": [],
   "source": [
    "# define a function to compute Pearson correlation\n",
    "\n",
    "import math\n",
    "\n",
    "def compute_pearson_correlation(rating_list_1, rating_list_2):\n",
    "\n",
    "    ### pseudocode ###\n",
    "    # avg_rating_1 = the average rating of rating_list_1 \n",
    "    # avg_rating_2 = the average rating of rating_list_2\n",
    "    # e.g., rating_list_1 = [2, 5], rating_list = [1, 3]\n",
    "    \n",
    "    #avg_rating_1 = mean(rating_list)\n",
    "    avg_rating_1 = float(sum(rating_list_1))/float(len(rating_list_1))\n",
    "    avg_rating_2 = float(sum(rating_list_2))/float(len(rating_list_2))\n",
    "\n",
    "    weight_sum, weight_1, weight_2 = 0.0, 0.0, 0.0\n",
    "    # calculate the value for weight_sum (numerator) and weight_1, weight_2 (denominator)\n",
    "    \n",
    "    for i in range(len(rating_list_1)):\n",
    "        ele1 = rating_list_1[i]\n",
    "        ele2 = rating_list_2[i]\n",
    "                                                   \n",
    "        ele1 = ele1 - avg_rating_1\n",
    "        ele2 = ele2 - avg_rating_2\n",
    "                                                   \n",
    "        weight_sum += ele1 * ele2\n",
    "        weight_1 = ele1 * ele1\n",
    "        weight_2 = ele2 * ele2\n",
    "        \n",
    "    if weight_1 == 0.0 or weight_2 == 0.0:\n",
    "        return 0.0\n",
    "    \n",
    "    else:\n",
    "        return weight_sum / math.sqrt(weight_1) / math.sqrt(weight_2)\n"
   ]
  },
  {
   "cell_type": "code",
   "execution_count": 8,
   "metadata": {},
   "outputs": [
    {
     "data": {
      "text/plain": [
       "2318781"
      ]
     },
     "execution_count": 8,
     "metadata": {},
     "output_type": "execute_result"
    }
   ],
   "source": [
    "len(business_pairs)"
   ]
  },
  {
   "cell_type": "code",
   "execution_count": 12,
   "metadata": {},
   "outputs": [],
   "source": [
    "# compute the Pearson correlation for each business pair\n",
    "\n",
    "PEARSON_THRED = 0.1 \n",
    "weight_matrix = []\n",
    "\n",
    "for pair in business_pairs:\n",
    "    \n",
    "    bid_1, bid_2 = pair[0], pair[1]\n",
    "    \n",
    "    ### pseudocode ###\n",
    "    \n",
    "    # call find_co_rated_users()\n",
    "    co_rated_users = find_co_rated_users(bid_1, bid_2)\n",
    "    # if the number of co_rated_users <= 1, weight should be 0.0\n",
    "    if len(co_rated_users) <= 1:\n",
    "        continue\n",
    "        \n",
    "    rating_list_1 = [review_dict[(u, bid_1)] for u in co_rated_users]\n",
    "    rating_list_2 = [review_dict[(u, bid_2)] for u in co_rated_users]\n",
    "    \n",
    "    \n",
    "    # get the rating list of the co-rated users on bid_1 and bid_2\n",
    "    # call compute_pearson_correlation()\n",
    "    weight = compute_pearson_correlation(rating_list_1, rating_list_2)\n",
    "\n",
    "    if weight > PEARSON_THRED:  # you can set some threshold to filter the low correlated values\n",
    "        weight_matrix.append([bid_1, bid_2, weight])  # (bid_1, bid_2) is in alphabetical order\n"
   ]
  },
  {
   "cell_type": "code",
   "execution_count": 14,
   "metadata": {},
   "outputs": [
    {
     "data": {
      "text/plain": [
       "[['Wfl_ch21ojyHsPnkvvnstw', 'pFQaji0idkrzv5J-qTQ82Q', 2.0],\n",
       " ['pFQaji0idkrzv5J-qTQ82Q', 'zpoZ6WyQUYff18-z4ZU1mA', 3.0],\n",
       " ['Rd11Bosr8JkfoUhZLzpuxg', 'pFQaji0idkrzv5J-qTQ82Q', 2.0],\n",
       " ['GI-CAiZ_Gg3h21PwrANB4Q', 'pFQaji0idkrzv5J-qTQ82Q', 2.9999999999999987],\n",
       " ['CiYLq33nAyghFkUR15pP-Q', 'pFQaji0idkrzv5J-qTQ82Q', 130.49999999999991]]"
      ]
     },
     "execution_count": 14,
     "metadata": {},
     "output_type": "execute_result"
    }
   ],
   "source": [
    "weight_matrix[:5]"
   ]
  },
  {
   "cell_type": "code",
   "execution_count": 15,
   "metadata": {},
   "outputs": [],
   "source": [
    "# write the results to a CSV file\n",
    "\n",
    "weight_matrix_df = pd.DataFrame(weight_matrix, columns=['bid1', 'bid2', 'corr'])\n",
    "weight_matrix_file_path = os.path.join(data_path, 'weight_matrix.csv')\n",
    "weight_matrix_df.to_csv(weight_matrix_file_path, index=False)\n"
   ]
  },
  {
   "cell_type": "code",
   "execution_count": null,
   "metadata": {},
   "outputs": [],
   "source": []
  }
 ],
 "metadata": {
  "kernelspec": {
   "display_name": "Python 3",
   "language": "python",
   "name": "python3"
  },
  "language_info": {
   "codemirror_mode": {
    "name": "ipython",
    "version": 3
   },
   "file_extension": ".py",
   "mimetype": "text/x-python",
   "name": "python",
   "nbconvert_exporter": "python",
   "pygments_lexer": "ipython3",
   "version": "3.7.1"
  }
 },
 "nbformat": 4,
 "nbformat_minor": 2
}
